{
  "nbformat": 4,
  "nbformat_minor": 0,
  "metadata": {
    "colab": {
      "provenance": [],
      "authorship_tag": "ABX9TyPujyOUUvoApiE/C6ec8gCl",
      "include_colab_link": true
    },
    "kernelspec": {
      "name": "python3",
      "display_name": "Python 3"
    },
    "language_info": {
      "name": "python"
    }
  },
  "cells": [
    {
      "cell_type": "markdown",
      "metadata": {
        "id": "view-in-github",
        "colab_type": "text"
      },
      "source": [
        "<a href=\"https://colab.research.google.com/github/7twik/GoogleColab/blob/main/pythonbasic.ipynb\" target=\"_parent\"><img src=\"https://colab.research.google.com/assets/colab-badge.svg\" alt=\"Open In Colab\"/></a>"
      ]
    },
    {
      "cell_type": "code",
      "execution_count": 1,
      "metadata": {
        "colab": {
          "base_uri": "https://localhost:8080/"
        },
        "id": "PHHTcs2-M_sC",
        "outputId": "eea182cd-06d5-4377-8e09-72a576117325"
      },
      "outputs": [
        {
          "output_type": "stream",
          "name": "stdout",
          "text": [
            "machine\n"
          ]
        }
      ],
      "source": [
        "print(\"machine\")"
      ]
    },
    {
      "cell_type": "code",
      "source": [
        "print(\"machine\",\"learning\")"
      ],
      "metadata": {
        "colab": {
          "base_uri": "https://localhost:8080/"
        },
        "id": "lGsGGayHOD9N",
        "outputId": "42138798-1cf7-4eb6-fe00-25319946f933"
      },
      "execution_count": 3,
      "outputs": [
        {
          "output_type": "stream",
          "name": "stdout",
          "text": [
            "machine learning\n"
          ]
        }
      ]
    },
    {
      "cell_type": "code",
      "source": [
        "print(5+3)"
      ],
      "metadata": {
        "colab": {
          "base_uri": "https://localhost:8080/"
        },
        "id": "w8Nbs1t_ORjz",
        "outputId": "f2d1a815-e9b2-4a0e-9a73-6d0f4e3f7814"
      },
      "execution_count": 4,
      "outputs": [
        {
          "output_type": "stream",
          "name": "stdout",
          "text": [
            "8\n"
          ]
        }
      ]
    },
    {
      "cell_type": "code",
      "source": [
        "a=5+2j\n",
        "print(type(8.3),type(5),type(True),type('a'),type(\"yoo\"),type(a))"
      ],
      "metadata": {
        "colab": {
          "base_uri": "https://localhost:8080/"
        },
        "id": "yh9I86t4OWAv",
        "outputId": "a145798c-2339-44f4-c0b0-b81031d7a4e2"
      },
      "execution_count": 21,
      "outputs": [
        {
          "output_type": "stream",
          "name": "stdout",
          "text": [
            "<class 'float'> <class 'int'> <class 'bool'> <class 'str'> <class 'str'> <class 'complex'>\n"
          ]
        }
      ]
    },
    {
      "cell_type": "code",
      "source": [
        "float\n",
        "int\n",
        "bool\n",
        "str\n",
        "complex"
      ],
      "metadata": {
        "colab": {
          "base_uri": "https://localhost:8080/"
        },
        "id": "8gNhG3woO6_A",
        "outputId": "7d35d296-1fa5-48f8-864c-09a6394bc4a2"
      },
      "execution_count": 9,
      "outputs": [
        {
          "output_type": "execute_result",
          "data": {
            "text/plain": [
              "float"
            ]
          },
          "metadata": {},
          "execution_count": 9
        }
      ]
    },
    {
      "cell_type": "code",
      "source": [
        "a=5\n",
        "print(type(a))\n",
        "a=\"yo yo bhondoo\"\n",
        "print(type(a))"
      ],
      "metadata": {
        "colab": {
          "base_uri": "https://localhost:8080/"
        },
        "id": "vm8cpz9fPQVt",
        "outputId": "57c19713-54ce-4ef3-b525-dac63fa7d384"
      },
      "execution_count": 11,
      "outputs": [
        {
          "output_type": "stream",
          "name": "stdout",
          "text": [
            "<class 'int'>\n",
            "<class 'str'>\n"
          ]
        }
      ]
    },
    {
      "cell_type": "code",
      "source": [
        "a,b,c=1,2,3\n",
        "print(a)\n",
        "print(c)"
      ],
      "metadata": {
        "colab": {
          "base_uri": "https://localhost:8080/"
        },
        "id": "LFL_FBPGPsMZ",
        "outputId": "b15bd584-7b95-4a49-f501-2112b30a5ef0"
      },
      "execution_count": 15,
      "outputs": [
        {
          "output_type": "stream",
          "name": "stdout",
          "text": [
            "1\n",
            "3\n"
          ]
        }
      ]
    },
    {
      "cell_type": "code",
      "source": [
        "a=b=c=2"
      ],
      "metadata": {
        "id": "yOOkiMMfP7PC"
      },
      "execution_count": 16,
      "outputs": []
    },
    {
      "cell_type": "code",
      "source": [
        "a=int(input(\"input de bhai:\"))\n",
        "print(a)\n",
        "type(a)"
      ],
      "metadata": {
        "colab": {
          "base_uri": "https://localhost:8080/"
        },
        "id": "DarKnzEZQDVj",
        "outputId": "f0a42939-2e17-4db4-c4ef-53120e78ea50"
      },
      "execution_count": 20,
      "outputs": [
        {
          "output_type": "stream",
          "name": "stdout",
          "text": [
            "input de bhai:5\n",
            "5\n"
          ]
        },
        {
          "output_type": "execute_result",
          "data": {
            "text/plain": [
              "int"
            ]
          },
          "metadata": {},
          "execution_count": 20
        }
      ]
    },
    {
      "cell_type": "code",
      "source": [
        "a=7>3   # > , >= , <= , <\n",
        "print(a)"
      ],
      "metadata": {
        "id": "qXbVUetXSa1r"
      },
      "execution_count": null,
      "outputs": []
    },
    {
      "cell_type": "code",
      "source": [
        "print(\"hello\"*5)"
      ],
      "metadata": {
        "colab": {
          "base_uri": "https://localhost:8080/"
        },
        "id": "posqZWTZS4cy",
        "outputId": "8352a2cd-865c-41e3-8e81-9a7134a48ff7"
      },
      "execution_count": 22,
      "outputs": [
        {
          "output_type": "stream",
          "name": "stdout",
          "text": [
            "hellohellohellohellohello\n"
          ]
        }
      ]
    },
    {
      "cell_type": "code",
      "source": [
        "a=\"amishabhondasame\"\n",
        "print(a[1:5])  #[x:y] to xth index se y-x index tk kaatega"
      ],
      "metadata": {
        "colab": {
          "base_uri": "https://localhost:8080/"
        },
        "id": "oD5OGIulTEDV",
        "outputId": "18dd3343-2e89-49db-b547-5bd51713156f"
      },
      "execution_count": 23,
      "outputs": [
        {
          "output_type": "stream",
          "name": "stdout",
          "text": [
            "mish\n"
          ]
        }
      ]
    },
    {
      "cell_type": "code",
      "source": [
        "a=[1,True,\"string\",4+5j,5.3]  #list\n",
        "b=5\n",
        "a.append(b)\n",
        "print(a)\n",
        "type(a)"
      ],
      "metadata": {
        "colab": {
          "base_uri": "https://localhost:8080/"
        },
        "id": "T4Bznp6sTm41",
        "outputId": "8f4b54a5-d16a-4155-c672-dda3dd3727ee"
      },
      "execution_count": 5,
      "outputs": [
        {
          "output_type": "stream",
          "name": "stdout",
          "text": [
            "[1, True, 'string', (4+5j), 5.3, 5]\n"
          ]
        },
        {
          "output_type": "execute_result",
          "data": {
            "text/plain": [
              "list"
            ]
          },
          "metadata": {},
          "execution_count": 5
        }
      ]
    },
    {
      "cell_type": "code",
      "source": [
        "print(len(a))\n",
        "print(a[2])\n",
        "del a[2]\n",
        "print(a)"
      ],
      "metadata": {
        "colab": {
          "base_uri": "https://localhost:8080/"
        },
        "id": "PSnj6aZuywqQ",
        "outputId": "ed8ce8f1-d171-462a-fe29-f53ca666c789"
      },
      "execution_count": 7,
      "outputs": [
        {
          "output_type": "stream",
          "name": "stdout",
          "text": [
            "6\n",
            "string\n",
            "[1, True, (4+5j), 5.3, 5]\n"
          ]
        }
      ]
    },
    {
      "cell_type": "code",
      "source": [
        "a=[2,3]\n",
        "b=[4,5]\n",
        "c=a+b\n",
        "print(c)"
      ],
      "metadata": {
        "colab": {
          "base_uri": "https://localhost:8080/"
        },
        "id": "fHp2V7StzaGX",
        "outputId": "e359ffd1-52a3-493c-b386-194caac3f0c4"
      },
      "execution_count": 8,
      "outputs": [
        {
          "output_type": "stream",
          "name": "stdout",
          "text": [
            "[2, 3, 4, 5]\n"
          ]
        }
      ]
    },
    {
      "cell_type": "code",
      "source": [
        "a=(1,2,3)   #tuple unchangeable + del append doesnt work + syntax a=(...)\n",
        "b=[1,2,3]   #list changeable + del append does work + syntax a=[...]\n",
        "print(type(a))\n",
        "print(type(b))"
      ],
      "metadata": {
        "colab": {
          "base_uri": "https://localhost:8080/"
        },
        "id": "cpkghf_F6qhB",
        "outputId": "9860789e-f2a8-4500-c74f-c423d4c71a95"
      },
      "execution_count": 10,
      "outputs": [
        {
          "output_type": "stream",
          "name": "stdout",
          "text": [
            "<class 'tuple'>\n",
            "<class 'list'>\n"
          ]
        }
      ]
    },
    {
      "cell_type": "code",
      "source": [
        "arithmetic operation\n",
        "+,-,**,%,*,/\n",
        "2**10=1024"
      ],
      "metadata": {
        "id": "ysiJFj7-7Iu4"
      },
      "execution_count": null,
      "outputs": []
    },
    {
      "cell_type": "code",
      "source": [
        "assignment operator\n",
        "=,+=,-=,/=..."
      ],
      "metadata": {
        "id": "isxWp3sU7IwS"
      },
      "execution_count": null,
      "outputs": []
    },
    {
      "cell_type": "code",
      "source": [
        "comparison operator\n",
        "==,!=,>,<,>=,<="
      ],
      "metadata": {
        "id": "ivm3-qFT8Dw5"
      },
      "execution_count": null,
      "outputs": []
    },
    {
      "cell_type": "code",
      "source": [
        "logical operator\n",
        "and, or"
      ],
      "metadata": {
        "id": "tU2RA7yU8DyS"
      },
      "execution_count": null,
      "outputs": []
    },
    {
      "cell_type": "code",
      "source": [
        "identity operator\n",
        "is,not         (works same as ==)\n",
        "if(a==b)  => if(a is b)\n",
        "if(a!=b)  => if( a is not b)\n"
      ],
      "metadata": {
        "id": "iq5fdaxI8Dzt"
      },
      "execution_count": null,
      "outputs": []
    },
    {
      "cell_type": "code",
      "source": [
        "if(a>b):\n",
        "  ye iske andr h\n",
        "  ye v h\n",
        "  ye v h\n",
        "ye nhi h"
      ],
      "metadata": {
        "id": "GWLcJgVU8rDR"
      },
      "execution_count": null,
      "outputs": []
    },
    {
      "cell_type": "code",
      "source": [
        "if(a>b):\n",
        "  ....\n",
        "  if(...):\n",
        "    .....\n",
        "  else:\n",
        "    .....\n",
        "elif(b>a):\n",
        "  ....\n",
        "else:\n",
        "  ...."
      ],
      "metadata": {
        "id": "YiE7ai3a87tM"
      },
      "execution_count": null,
      "outputs": []
    },
    {
      "cell_type": "code",
      "source": [
        "def oddeven():\n",
        "  # we do not need to declare return type we can return anything if we want\n",
        "  # and if we want to not return it is also ok\n",
        "  if(5%2==0):\n",
        "    print(\"even\")\n",
        "  else:\n",
        "    print(\"odd\")\n",
        "\n",
        "oddeven(2,4)\n",
        "\n",
        "def oddeven(n):\n",
        "  if(n%2==0):\n",
        "    print(\"even\")\n",
        "  else:\n",
        "    print(\"odd\")\n",
        "\n",
        "oddeven(2)\n",
        "def oddeven(n,m):\n",
        "  if((n+m)%2==0):\n",
        "    print(\"even\")\n",
        "  else:\n",
        "    print(\"odd\")\n",
        "\n",
        "oddeven(2,4)"
      ],
      "metadata": {
        "colab": {
          "base_uri": "https://localhost:8080/"
        },
        "id": "rJMoeCVu9eSa",
        "outputId": "8284d8e4-97a9-4c0e-f477-f8df9cb887cf"
      },
      "execution_count": 19,
      "outputs": [
        {
          "output_type": "stream",
          "name": "stdout",
          "text": [
            "even\n"
          ]
        }
      ]
    }
  ]
}